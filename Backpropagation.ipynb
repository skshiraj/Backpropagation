{
 "cells": [
  {
   "cell_type": "markdown",
   "metadata": {
    "colab_type": "text",
    "id": "N5QCLaUnrnBV"
   },
   "source": [
    "# Back Propagation"
   ]
  },
  {
   "cell_type": "markdown",
   "metadata": {
    "colab_type": "text",
    "id": "sH5jPVX-rnBd"
   },
   "source": [
    "## 1. loading of data"
   ]
  },
  {
   "cell_type": "code",
   "execution_count": 1,
   "metadata": {},
   "outputs": [],
   "source": [
    "import matplotlib.pyplot as plt\n",
    "%matplotlib inline"
   ]
  },
  {
   "cell_type": "code",
   "execution_count": 2,
   "metadata": {
    "colab": {},
    "colab_type": "code",
    "id": "y4WT0EJRrnBg",
    "outputId": "90804161-647c-4283-a8c2-27188dd451ce"
   },
   "outputs": [
    {
     "name": "stdout",
     "output_type": "stream",
     "text": [
      "(506, 6)\n",
      "(506, 5) (506,)\n"
     ]
    }
   ],
   "source": [
    "import numpy as np\n",
    "import pickle\n",
    "with open('data.pkl', 'rb') as f:\n",
    "    data = pickle.load(f)\n",
    "print(data.shape)\n",
    "X = data[:, :5]                                                   \n",
    "y = data[:, -1]\n",
    "print(X.shape, y.shape)"
   ]
  },
  {
   "cell_type": "code",
   "execution_count": 3,
   "metadata": {},
   "outputs": [
    {
     "data": {
      "text/plain": [
       "-1.287909498957745"
      ]
     },
     "execution_count": 3,
     "metadata": {},
     "output_type": "execute_result"
    }
   ],
   "source": [
    "(X[0][0])"
   ]
  },
  {
   "cell_type": "markdown",
   "metadata": {
    "colab_type": "text",
    "id": "GIkq6U0SrnBu"
   },
   "source": [
    "# 2. Computational graph"
   ]
  },
  {
   "cell_type": "markdown",
   "metadata": {
    "colab_type": "text",
    "id": "3XnJH-McrnBx"
   },
   "source": [
    "<img src='https://i.imgur.com/seSGbNS.png'>"
   ]
  },
  {
   "cell_type": "markdown",
   "metadata": {
    "colab_type": "text",
    "id": "YRQKYgJrrnB0"
   },
   "source": [
    "<pre>\n",
    "1. if you observe the graph, we are having input features [f1, f2, f3, f4, f5] and 9 weights [w1, w2, w3, w4, w5, w6,    w7, w8, w9]\n",
    "2. the final output of this graph is a value L which is computed as (Y-Y')^2\n",
    "</pre>"
   ]
  },
  {
   "cell_type": "markdown",
   "metadata": {
    "colab_type": "text",
    "id": "inW-os8IrnB3"
   },
   "source": [
    "### Task 1: Implementing backpropagation and Gradient checking\n",
    "\n",
    "\n",
    "<pre>1. <b>Check this video for better understanding of the computational graphs and back propagation:</b> <a href='https://www.youtube.com/watch?v=i94OvYb6noo#t=1m33s'>https://www.youtube.com/watch?v=i94OvYb6noo</a>\n",
    "</pre>\n",
    "\n",
    "<pre>\n",
    "2. <b>write two functions</b>\n",
    "\n",
    "#you can modify the definition of this function according to your needs\n",
    "<font color='green'>\n",
    "def forward_propagation(X, y, W):\n",
    "        <font color='grey'>\n",
    "        # X: input data point, note that in this assignment you are having 5-d data points\n",
    "        # y: output varible\n",
    "        # W: weight array, its of length 9, W[0] corresponds to w1 in graph, W[1] corresponds to w2 in graph, ..., W[8] corresponds to w9 in graph.\n",
    "        # write code to compute the value of L=(y-y')^2\n",
    "        </font>\n",
    "        return (L, any other variables which you might need to use for back propagation)\n",
    "        <font color='grey'>\n",
    "        # Hint: you can use dict type to store the required intermediate variables \n",
    "        </font>\n",
    "</font>\n",
    "</pre>\n",
    "\n",
    "<pre>\n",
    "# you can modify the definition of this function according to your needs\n",
    "<font color='blue'>\n",
    "def backward_propagation(L, Variables):\n",
    "        <font color='grey'>\n",
    "        # L: the loss we calculated for the current point\n",
    "        # Variables: the outputs of the forward_propagation() function\n",
    "        # write code to compute the gradients of each weight [w1,w2,w3,...,w9]\n",
    "        </font>\n",
    "        return dW\n",
    "        <font color='grey'>\n",
    "        # here dW can be a list, or dict or any other data type wich will have gradients of all the weights\n",
    "        # Hint: you can use dict type to store the required variables \n",
    "        </font>\n",
    "</font>\n",
    "</pre>\n",
    "3. <b> <a href='https://towardsdatascience.com/how-to-debug-a-neural-network-with-gradient-checking-41deec0357a9'>Gradient checking</a></b>:<a href='https://towardsdatascience.com/how-to-debug-a-neural-network-with-gradient-checking-41deec0357a9'>blog link</a> \n",
    "\n",
    "<pre>we know that the derivative of any function is </pre>$$\\lim_{\\epsilon\\to0}\\frac{f(x+\\epsilon)-f(x-\\epsilon)}{2\\epsilon}$$\n",
    "<pre>\n",
    "The definition above can be used as a numerical approximation of the derivative. Taking an epsilon small enough, the calculated approximation will have an error in the range of epsilon squared. \n",
    "\n",
    "In other words, if epsilon is 0.001, the approximation will be off by 0.00001.\n",
    "\n",
    "Therefore, we can use this to approximate the gradient, and in turn make sure that backpropagation is implemented properly. This forms the basis of gradient checking!\n",
    "\n",
    "</pre>\n",
    "\n",
    "<font >\n",
    "lets understand the concept with a simple example:\n",
    "$f(w1,w2,x1,x2)=w_{1}^{2} . x_{1} + w_{2} . x_{2}$ \n",
    "\n",
    "from the above function lets assume $w_{1}=1$, $w_{2}=2$, $x_{1}=3$, $x_{2}=4$ the gradient of $f$ w.r.t $w_{1}$ is\n",
    "\n",
    "\\begin{array} {lcl}\n",
    "\\frac{df}{dw_{1}} = dw_{1} &=&2.w_{1}.x_{1} \\\\& = &2.1.3\\\\& = &6\n",
    "\\end{array}\n",
    "\n",
    "\n",
    "let calculate the aproximate gradient of $w_{1}$ as mentinoned in the above formula and considering $\\epsilon=0.0001$\n",
    "\n",
    "\\begin{array} {lcl}\n",
    "dw_1^{approx} & = & \\frac{f(w1+\\epsilon,w2,x1,x2)-f(w1-\\epsilon,w2,x1,x2)}{2\\epsilon} \\\\ & = & \\frac{((1+0.0001)^{2} . 3 + 2 . 4) - ((1-0.0001)^{2} . 3 + 2 . 4)}{2\\epsilon} \\\\ & = & \\frac{(1.00020001 . 3 + 2 . 4) - (0.99980001. 3 + 2 . 4)}{2*0.0001} \\\\ & = & \\frac{(11.00060003) - (10.99940003)}{0.0002}\\\\ & = & 5.99999999999\n",
    "\\end{array}\n",
    "\n",
    "Then, we apply the following formula for gradient check: <i>gradient_check</i> = \n",
    "$\\frac{\\left\\Vert\\left (dW-dW^{approx}\\rm\\right) \\right\\Vert_2}{\\left\\Vert\\left (dW\\rm\\right) \\right\\Vert_2+\\left\\Vert\\left (dW^{approx}\\rm\\right) \\right\\Vert_2}$\n",
    "\n",
    "The equation above is basically the Euclidean distance normalized by the sum of the norm of the vectors. We use normalization in case that one of the vectors is very small.\n",
    "As a value for epsilon, we usually opt for 1e-7. Therefore, if gradient check return a value less than 1e-7, then it means that backpropagation was implemented correctly. Otherwise, there is potentially a mistake in your implementation. If the value exceeds 1e-3, then you are sure that the code is not correct.\n",
    "\n",
    "in our example: <i>gradient_check</i> $ = \\frac{(6 - 5.999999999994898)}{(6 + 5.999999999994898)} = 4.2514140356330737e^{-13}$\n",
    "\n",
    "you can mathamatically derive the same thing like this\n",
    "\n",
    "\\begin{array} {lcl}\n",
    "dw_1^{approx} & = & \\frac{f(w1+\\epsilon,w2,x1,x2)-f(w1-\\epsilon,w2,x1,x2)}{2\\epsilon} \\\\ & = & \\frac{((w_{1}+\\epsilon)^{2} . x_{1} + w_{2} . x_{2}) - ((w_{1}-\\epsilon)^{2} . x_{1} + w_{2} . x_{2})}{2\\epsilon} \\\\ & = & \\frac{4. \\epsilon.w_{1}. x_{1}}{2\\epsilon} \\\\ & = &  2.w_{1}.x_{1}\n",
    "\\end{array}\n",
    "\n",
    "to do this task you need to write a function \n",
    "<pre>\n",
    "<font color='darkblue'>\n",
    "W = initilize_randomly\n",
    "def gradient_checking(data_point, W):\n",
    "    <font color='grey'>\n",
    "    # compute the L value using forward_propagation()\n",
    "    # compute the gradients of W using backword_propagation()\n",
    "    </font>\n",
    "    approx_gradients = []\n",
    "    for each wi weight value in W:\n",
    "        <font color='grey'>\n",
    "        # add a small value to weight wi, and then find the values of L with the updated weights\n",
    "        # subtract a small value to weight wi, and then find the values of L with the updated weights\n",
    "        # compute the approximation gradients of weight wi\n",
    "        </font>\n",
    "        approx_gradients.append(approximation gradients of weight wi)\n",
    "    <font color='grey'>\n",
    "    # compare the gradient of weights W from backword_propagation() with the aproximation gradients of weights with      gradient_check formula\n",
    "    </font>\n",
    "    return gradient_check\n",
    "</font>\n",
    "NOTE: you can do sanity check by checking all the return values of gradient_checking(), they have to be zero. if not you have bug in your code\n",
    "</pre>"
   ]
  },
  {
   "cell_type": "code",
   "execution_count": 4,
   "metadata": {},
   "outputs": [],
   "source": [
    "from scipy.stats import norm\n",
    "mean = 0\n",
    "std = 0.01"
   ]
  },
  {
   "cell_type": "code",
   "execution_count": 5,
   "metadata": {},
   "outputs": [],
   "source": [
    "import numpy as np\n",
    "def sigmoid(x):\n",
    "    return 1/(1 + np.exp(-x))"
   ]
  },
  {
   "cell_type": "code",
   "execution_count": 6,
   "metadata": {},
   "outputs": [],
   "source": [
    "import math\n",
    "def forward_propagation(X, y, W):\n",
    "    v1 = X[0]*W[0] + X[1]*W[1]\n",
    "    v2 = v1**2\n",
    "    v3 = v2 + W[5]\n",
    "    v4 = math.exp(v3)\n",
    "    v5 = W[6] + v4\n",
    "    v6 = np.tanh(v5)\n",
    "    v7 = math.sin(X[2]*W[2])\n",
    "    v8 = X[3]*W[3] + X[4]*W[4]\n",
    "    v9 = v7*v8\n",
    "    v10 = v9 + W[7]\n",
    "    v11 = sigmoid(v10)\n",
    "    v12 = v11*W[8]\n",
    "    y_pred = v12 + v6\n",
    "    L = (y - y_pred)**2\n",
    "    return L, [W[2], W[8], v11, v8, v7, v6, v4, v1]"
   ]
  },
  {
   "cell_type": "code",
   "execution_count": 7,
   "metadata": {},
   "outputs": [],
   "source": [
    "def backward_propagation(L, X, varis):\n",
    "    dW = []\n",
    "    d7 = -2*math.sqrt(L)\n",
    "    d6 = d7*varis[1]*varis[2]*(1-varis[2])\n",
    "    d5 = d7*(1-varis[5]**2)\n",
    "    d4 = d5*varis[6]\n",
    "    d2 = d6\n",
    "    d3 = d2*varis[4]\n",
    "    d1 = d4\n",
    "    dW.append(2*d1*X[0]*varis[7])\n",
    "    dW.append(2*d1*X[1]*varis[7])\n",
    "    dW.append(d2*varis[3]*X[2]*math.cos(varis[0]*X[2]))\n",
    "    dW.append(d3*X[3])\n",
    "    dW.append(d3*X[4])\n",
    "    dW.append(d4)\n",
    "    dW.append(d5)\n",
    "    dW.append(d6)\n",
    "    dW.append(d7*varis[2])\n",
    "    return dW"
   ]
  },
  {
   "cell_type": "code",
   "execution_count": 8,
   "metadata": {},
   "outputs": [],
   "source": [
    "def gradient_checking(data_point, W, y):\n",
    "    \n",
    "    L, varis = forward_propagation(data_point, y, W)\n",
    "    grads = backward_propagation(L, data_point, varis)\n",
    "    \n",
    "    approx_gradients = []\n",
    "    for w in W:\n",
    "        plus = []\n",
    "        for x in W:\n",
    "            if x is w:\n",
    "                plus.append(x+0.0001)\n",
    "            else:\n",
    "                plus.append(x)\n",
    "        minus = []\n",
    "        for x in W:\n",
    "            if x is w:\n",
    "                minus.append(x-0.0001)\n",
    "            else:\n",
    "                minus.append(x)\n",
    "        # add a small value to weight wi, and then find the values of L with the updated weights\n",
    "        # subtract a small value to weight wi, and then find the values of L with the updated weights\n",
    "        Lp, varp = forward_propagation(data_point, y, plus)\n",
    "        Ln, varn = forward_propagation(data_point, y, minus)\n",
    "        # compute the approximation gradients of weight wi\n",
    "        \n",
    "        approx_gradients.append((float(Lp-Ln)/float(2*0.0001)))\n",
    "    gradient_check = []\n",
    "    for i in range(len(grads)):\n",
    "        gradient_check.append((abs(grads[i] - approx_gradients[i])/(abs(grads[i]) + abs(approx_gradients[i]))))\n",
    "    # compare the gradient of weights W from backword_propagation() with the aproximation gradients of weights with      gradient_check formula\n",
    "    \n",
    "    return gradient_check\n"
   ]
  },
  {
   "cell_type": "code",
   "execution_count": 9,
   "metadata": {},
   "outputs": [
    {
     "data": {
      "text/plain": [
       "[0.011204946699736911,\n",
       " -0.004783991348167765,\n",
       " 0.0066631474003799,\n",
       " -0.006237368339936684,\n",
       " -0.007451784010950231,\n",
       " -0.0128484134455109,\n",
       " -0.011736303251342449,\n",
       " -0.007749231670220486,\n",
       " -0.008098670569955523]"
      ]
     },
     "execution_count": 9,
     "metadata": {},
     "output_type": "execute_result"
    }
   ],
   "source": [
    "w = []\n",
    "for i in range(9):\n",
    "    w.append(mean + np.random.normal()*std)\n",
    "w"
   ]
  },
  {
   "cell_type": "code",
   "execution_count": 10,
   "metadata": {},
   "outputs": [
    {
     "data": {
      "text/plain": [
       "[7.223836488968355e-09,\n",
       " 4.393427487744211e-10,\n",
       " 2.907714899341869e-09,\n",
       " 2.911331169915259e-08,\n",
       " 2.4883299927159208e-08,\n",
       " 1.2809328380019019e-09,\n",
       " 2.626854564013509e-09,\n",
       " 5.958358703613428e-10,\n",
       " 1.0186321034070185e-13]"
      ]
     },
     "execution_count": 10,
     "metadata": {},
     "output_type": "execute_result"
    }
   ],
   "source": [
    "grad_c = gradient_checking(X[0], w, y[0])\n",
    "type(y[0])\n",
    "grad_c"
   ]
  },
  {
   "cell_type": "markdown",
   "metadata": {
    "colab_type": "text",
    "id": "mf1fj5ZernB5"
   },
   "source": [
    "### Task 2: Optimizers\n",
    "\n",
    "1. As a part of this task, you will be implementing 3 type of optimizers(methods to update weight)\n",
    "2. check this video and blog: https://www.youtube.com/watch?v=gYpoJMlgyXA,  http://cs231n.github.io/neural-networks-3/\n",
    "3. use the same computational graph that was mentioned above to do this task\n",
    "4. initilze the 9 weights from normal distribution with mean=0 and std=0.01\n",
    "\n",
    "5. \n",
    "\n",
    "<pre>\n",
    "    for each epoch(1-100):\n",
    "        for each data point in your data:\n",
    "            using the functions forward_propagation() and backword_propagation() compute the gradients of weights\n",
    "            update the weigts with help of gradients  ex: w1 = w1-learning_rate*dw1\n",
    "</pre>\n",
    "\n",
    "6.\n",
    "\n",
    "<pre>\n",
    "<b>task 2.1</b>: you will be implementing the above algorithm with <b>Vanilla update</b> of weights\n",
    "<b>task 2.2</b>: you will be implementing the above algorithm with <b>Momentum update</b> of weights\n",
    "<b>task 2.3</b>: you will be implementing the above algorithm with <b>Adam update</b> of weights\n",
    "</pre>\n",
    "\n"
   ]
  },
  {
   "cell_type": "code",
   "execution_count": 11,
   "metadata": {},
   "outputs": [],
   "source": [
    "from tqdm import tqdm\n",
    "def vanilla_update(weights, X, y):\n",
    "    rate = 0.0001\n",
    "    loss = []\n",
    "    print(weights)\n",
    "    for i in tqdm(range(100)):\n",
    "        for j in range(len(X)):\n",
    "            L, varis = forward_propagation(X[j], y[j], weights)\n",
    "            grads = backward_propagation(L, X[j], varis)\n",
    "            for k in range(len(weights)):\n",
    "                weights[k] -= rate*grads[k]\n",
    "        l, varis = forward_propagation(X[j], y[j], weights)\n",
    "        if len(loss) > 0:\n",
    "            if l > loss[i-1]:\n",
    "                break\n",
    "        loss.append(l)\n",
    "    print(weights)\n",
    "    return loss"
   ]
  },
  {
   "cell_type": "code",
   "execution_count": 12,
   "metadata": {},
   "outputs": [
    {
     "data": {
      "text/plain": [
       "[-0.0011528842063713491,\n",
       " -0.011563315487974938,\n",
       " 0.0045325773799878115,\n",
       " -0.014906171141429524,\n",
       " -0.002274253611031472,\n",
       " 0.0006086921513567536,\n",
       " 0.018528852338129627,\n",
       " 0.0019668408494119783,\n",
       " -0.0009248698038541521]"
      ]
     },
     "execution_count": 12,
     "metadata": {},
     "output_type": "execute_result"
    }
   ],
   "source": [
    "w = []\n",
    "for i in range(9):\n",
    "    w.append(mean + np.random.normal()*std)\n",
    "w"
   ]
  },
  {
   "cell_type": "code",
   "execution_count": 13,
   "metadata": {
    "scrolled": true
   },
   "outputs": [
    {
     "name": "stdout",
     "output_type": "stream",
     "text": [
      "[-0.0011528842063713491, -0.011563315487974938, 0.0045325773799878115, -0.014906171141429524, -0.002274253611031472, 0.0006086921513567536, 0.018528852338129627, 0.0019668408494119783, -0.0009248698038541521]\n"
     ]
    },
    {
     "name": "stderr",
     "output_type": "stream",
     "text": [
      " 40%|████████████████████████████████                                                | 40/100 [00:00<00:00, 128.44it/s]\n"
     ]
    },
    {
     "name": "stdout",
     "output_type": "stream",
     "text": [
      "[-0.023458981801500512, -0.037043129284976495, 0.0014466746490001032, -0.014330648047863308, -0.0018830994890663662, 0.4611962069884636, 0.3870777812622287, 0.2946249263272607, 1.1254647145405627]\n"
     ]
    }
   ],
   "source": [
    "losses = vanilla_update(w, X, y)"
   ]
  },
  {
   "cell_type": "code",
   "execution_count": 14,
   "metadata": {},
   "outputs": [
    {
     "data": {
      "text/plain": [
       "2.805378720173197e-06"
      ]
     },
     "execution_count": 14,
     "metadata": {},
     "output_type": "execute_result"
    }
   ],
   "source": [
    "losses[-1]"
   ]
  },
  {
   "cell_type": "code",
   "execution_count": 15,
   "metadata": {},
   "outputs": [
    {
     "data": {
      "image/png": "[encoded data removed]",
      "text/plain": [
       "<Figure size 432x288 with 1 Axes>"
      ]
     },
     "metadata": {
      "needs_background": "light"
     },
     "output_type": "display_data"
    }
   ],
   "source": [
    "plt.plot(losses)\n",
    "plt.title('Vanilla update')\n",
    "plt.xlabel('Epoch number')\n",
    "plt.ylabel('Loss')\n",
    "plt.show()"
   ]
  },
  {
   "cell_type": "code",
   "execution_count": 16,
   "metadata": {},
   "outputs": [
    {
     "data": {
      "text/plain": [
       "[0.006497148334835318,\n",
       " 0.011009416086012875,\n",
       " 0.006632704071507144,\n",
       " -0.0015074249141101327,\n",
       " 0.021733010509207357,\n",
       " 0.012665111403862412,\n",
       " -0.0005309336204875554,\n",
       " -0.009300133981404864,\n",
       " 0.005881373457546636]"
      ]
     },
     "execution_count": 16,
     "metadata": {},
     "output_type": "execute_result"
    }
   ],
   "source": [
    "w = []\n",
    "for i in range(9):\n",
    "    w.append(mean + np.random.normal()*std)\n",
    "w"
   ]
  },
  {
   "cell_type": "code",
   "execution_count": 17,
   "metadata": {},
   "outputs": [],
   "source": [
    "def momentum_update(weights, X, y):\n",
    "    v = list(np.zeros(len(weights)))\n",
    "    loss = []\n",
    "    alpha = 0.00001\n",
    "    gam = 0.95\n",
    "    for i in tqdm(range(100)):\n",
    "        for j in range(len(X)):\n",
    "            L, varis = forward_propagation(X[j], y[j], weights)\n",
    "            grads = backward_propagation(L, X[j], varis)\n",
    "            for k in range(len(weights)):\n",
    "                v[k] = gam*v[k] + alpha*grads[k]\n",
    "                weights[k] -= v[k]\n",
    "        l, varis = forward_propagation(X[j], y[j], weights)\n",
    "        if len(loss) > 0:\n",
    "            if l > loss[i-1]:\n",
    "                break\n",
    "        loss.append(l)\n",
    "    print(weights)\n",
    "    return loss"
   ]
  },
  {
   "cell_type": "code",
   "execution_count": 18,
   "metadata": {},
   "outputs": [
    {
     "name": "stderr",
     "output_type": "stream",
     "text": [
      " 11%|████████▊                                                                       | 11/100 [00:00<00:00, 109.15it/s]\n"
     ]
    },
    {
     "name": "stdout",
     "output_type": "stream",
     "text": [
      "[0.03982059896405682, 0.04516398462119371, 0.009362736906573334, 0.00010560777885563208, 0.022763712983117704, 0.48165763774864845, 0.3690947429058701, 0.29077980427126443, 1.139579833957054]\n"
     ]
    }
   ],
   "source": [
    "losses = momentum_update(w, X, y)"
   ]
  },
  {
   "cell_type": "code",
   "execution_count": 19,
   "metadata": {},
   "outputs": [
    {
     "data": {
      "text/plain": [
       "6.482204698441409e-06"
      ]
     },
     "execution_count": 19,
     "metadata": {},
     "output_type": "execute_result"
    }
   ],
   "source": [
    "losses[-1]"
   ]
  },
  {
   "cell_type": "code",
   "execution_count": 20,
   "metadata": {},
   "outputs": [
    {
     "data": {
      "image/png": "[encoded data removed]",
      "text/plain": [
       "<Figure size 432x288 with 1 Axes>"
      ]
     },
     "metadata": {
      "needs_background": "light"
     },
     "output_type": "display_data"
    }
   ],
   "source": [
    "plt.plot(losses)\n",
    "plt.title('Momentum update')\n",
    "plt.xlabel('Epoch number')\n",
    "plt.ylabel('Loss')\n",
    "plt.show()"
   ]
  },
  {
   "cell_type": "code",
   "execution_count": 21,
   "metadata": {},
   "outputs": [],
   "source": [
    "def adam_update(weights, X, y):\n",
    "    alpha = 0.0001\n",
    "    beta1 = 0.9\n",
    "    beta2 = 0.99\n",
    "    t = 0\n",
    "    loss = []\n",
    "    eps = 0.0000001\n",
    "    m = list(np.zeros(len(weights)))\n",
    "    v = list(np.zeros(len(weights)))\n",
    "    mt = list(np.zeros(len(weights)))\n",
    "    vt = list(np.zeros(len(weights)))\n",
    "    for i in tqdm(range(100)):\n",
    "        for j in range(len(X)):\n",
    "            L, varis = forward_propagation(X[j], y[j], weights)\n",
    "            grads = backward_propagation(L, X[j], varis)\n",
    "            t += 1\n",
    "            for k in range(len(weights)):\n",
    "                m[k] = beta1*m[k] + (1-beta1)*grads[k]\n",
    "                mt[k] = m[k] / (1-beta1**t)\n",
    "                v[k] = beta2*v[k] + (1-beta2)*(grads[k]**2)\n",
    "                vt[k] = v[k] / (1-beta2**t)\n",
    "                weights[k] += - alpha * mt[k] / (np.sqrt(vt[k]) + eps)\n",
    "        l, varis = forward_propagation(X[j], y[j], weights)\n",
    "        if len(loss) > 0:\n",
    "            if l > loss[i-1]:\n",
    "                break\n",
    "        loss.append(l)\n",
    "    print(weights)\n",
    "    return loss"
   ]
  },
  {
   "cell_type": "code",
   "execution_count": 22,
   "metadata": {},
   "outputs": [
    {
     "data": {
      "text/plain": [
       "[0.0015216580536809802,\n",
       " -0.014357257343994671,\n",
       " -0.0162907390324698,\n",
       " -0.000411140432707132,\n",
       " 0.0019514456264395255,\n",
       " -0.0277830843598259,\n",
       " 0.003636072273636491,\n",
       " -0.004537702286622462,\n",
       " 0.008691293878276229]"
      ]
     },
     "execution_count": 22,
     "metadata": {},
     "output_type": "execute_result"
    }
   ],
   "source": [
    "w = []\n",
    "for i in range(9):\n",
    "    w.append(mean + np.random.normal()*std)\n",
    "w"
   ]
  },
  {
   "cell_type": "code",
   "execution_count": 23,
   "metadata": {
    "scrolled": true
   },
   "outputs": [
    {
     "name": "stderr",
     "output_type": "stream",
     "text": [
      " 19%|███████████████▍                                                                 | 19/100 [00:00<00:01, 40.90it/s]\n"
     ]
    },
    {
     "name": "stdout",
     "output_type": "stream",
     "text": [
      "[-0.5813583084955939, -0.5390694408973956, -0.5594220679046624, -0.6150443118853733, -0.3631071209216714, 0.6909550749013904, 0.6903828954726666, 0.9741426889535462, 0.9521413892524925]\n"
     ]
    }
   ],
   "source": [
    "losses = adam_update(w, X, y)"
   ]
  },
  {
   "cell_type": "code",
   "execution_count": 24,
   "metadata": {
    "scrolled": true
   },
   "outputs": [
    {
     "data": {
      "text/plain": [
       "8.792507432709785e-07"
      ]
     },
     "execution_count": 24,
     "metadata": {},
     "output_type": "execute_result"
    }
   ],
   "source": [
    "losses[-1]"
   ]
  },
  {
   "cell_type": "code",
   "execution_count": 25,
   "metadata": {
    "scrolled": true
   },
   "outputs": [
    {
     "data": {
      "image/png": "[encoded data removed]",
      "text/plain": [
       "<Figure size 432x288 with 1 Axes>"
      ]
     },
     "metadata": {
      "needs_background": "light"
     },
     "output_type": "display_data"
    }
   ],
   "source": [
    "plt.plot(losses)\n",
    "plt.title('Adam update')\n",
    "plt.xlabel('Epoch number')\n",
    "plt.ylabel('Loss')\n",
    "plt.show()"
   ]
  },
  {
   "cell_type": "markdown",
   "metadata": {},
   "source": [
    "## Observations"
   ]
  },
  {
   "cell_type": "markdown",
   "metadata": {},
   "source": [
    "### a) Vanilla update\n",
    "<pre>\n",
    "1. The number of epochs taken to reach convergence is 40. \n",
    "2. The value of the minimum loss is 2.805378720173197e-06\n",
    "3. The value of the learning rate that gave the best result is 0.0001."
   ]
  },
  {
   "cell_type": "markdown",
   "metadata": {},
   "source": [
    "### b) Momentum update\n",
    "<pre>\n",
    "1. The number of epochs taken to reach the condition of convergence is 11.\n",
    "2. The value of the minimum loss is 6.482204698441409e-06.\n",
    "3. The values of the learning rate, and exponential weighing coeffient that gave the best values are 0.00001 and 0.95 respectively."
   ]
  },
  {
   "cell_type": "markdown",
   "metadata": {},
   "source": [
    "### c) Adam update\n",
    "<pre>\n",
    "1. The number of epochs taken to reach convergence is 19.\n",
    "2. The value of minimum loss is 8.792507432709785e-07.\n",
    "3. The values of the learning rate, exponential weight for linear sum, and eexponential weight for squared sum are 0.0001, 0.9, and 0.99 respectively."
   ]
  },
  {
   "cell_type": "markdown",
   "metadata": {},
   "source": [
    "## Conclusions\n",
    "<pre>\n",
    "1. The most epochs are taken by Vanilla update and the least epochs are required by the momentum update\n",
    "2. The least loss is achieved by the Adam update with Vanilla not far behind. Out of the three, the maximum loss is given by the momentum update."
   ]
  }
 ],
 "metadata": {
  "colab": {
   "name": "Backpropagation.ipynb",
   "provenance": []
  },
  "kernelspec": {
   "display_name": "Python 3",
   "language": "python",
   "name": "python3"
  },
  "language_info": {
   "codemirror_mode": {
    "name": "ipython",
    "version": 3
   },
   "file_extension": ".py",
   "mimetype": "text/x-python",
   "name": "python",
   "nbconvert_exporter": "python",
   "pygments_lexer": "ipython3",
   "version": "3.7.4"
  }
 },
 "nbformat": 4,
 "nbformat_minor": 1
}
